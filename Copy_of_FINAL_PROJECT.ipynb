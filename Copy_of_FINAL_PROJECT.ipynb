{
  "metadata": {
    "kernelspec": {
      "language": "python",
      "display_name": "Python 3",
      "name": "python3"
    },
    "language_info": {
      "name": "python",
      "version": "3.10.13",
      "mimetype": "text/x-python",
      "codemirror_mode": {
        "name": "ipython",
        "version": 3
      },
      "pygments_lexer": "ipython3",
      "nbconvert_exporter": "python",
      "file_extension": ".py"
    },
    "kaggle": {
      "accelerator": "gpu",
      "dataSources": [
        {
          "sourceId": 75492,
          "databundleVersionId": 8320480,
          "sourceType": "competition"
        }
      ],
      "dockerImageVersionId": 30698,
      "isInternetEnabled": true,
      "language": "python",
      "sourceType": "notebook",
      "isGpuEnabled": true
    },
    "colab": {
      "provenance": []
    }
  },
  "nbformat_minor": 0,
  "nbformat": 4,
  "cells": [
    {
      "source": [
        "\n",
        "# IMPORTANT: RUN THIS CELL IN ORDER TO IMPORT YOUR KAGGLE DATA SOURCES\n",
        "# TO THE CORRECT LOCATION (/kaggle/input) IN YOUR NOTEBOOK,\n",
        "# THEN FEEL FREE TO DELETE THIS CELL.\n",
        "# NOTE: THIS NOTEBOOK ENVIRONMENT DIFFERS FROM KAGGLE'S PYTHON\n",
        "# ENVIRONMENT SO THERE MAY BE MISSING LIBRARIES USED BY YOUR\n",
        "# NOTEBOOK.\n",
        "\n",
        "import os\n",
        "import sys\n",
        "from tempfile import NamedTemporaryFile\n",
        "from urllib.request import urlopen\n",
        "from urllib.parse import unquote, urlparse\n",
        "from urllib.error import HTTPError\n",
        "from zipfile import ZipFile\n",
        "import tarfile\n",
        "import shutil\n",
        "\n",
        "CHUNK_SIZE = 40960\n",
        "DATA_SOURCE_MAPPING = 'shai-training-2024-a-level-2:https%3A%2F%2Fstorage.googleapis.com%2Fkaggle-competitions-data%2Fkaggle-v2%2F75492%2F8320480%2Fbundle%2Farchive.zip%3FX-Goog-Algorithm%3DGOOG4-RSA-SHA256%26X-Goog-Credential%3Dgcp-kaggle-com%2540kaggle-161607.iam.gserviceaccount.com%252F20240511%252Fauto%252Fstorage%252Fgoog4_request%26X-Goog-Date%3D20240511T161223Z%26X-Goog-Expires%3D259200%26X-Goog-SignedHeaders%3Dhost%26X-Goog-Signature%3D2b9283bb82a5e378b3a851395f39afd4de9514fec116d3e2ef2d4834f01c67b095f4734e661813c1ab41e163659cabe6bd10f9ab60e607a030c37ec42a492b779f437f7a8fe30c433eec94512af9e5883dfa8681ada7da0e54ccfdb08fab0abc99b4f05174f06b44e68a0fa861f0da69bcae842b9ea8e9c6b27f20fa2c4b06f05e14ab048f15a09b52ae24aeee5002ac68180cf2cad194ec6975676aed72390792a257153955abb295f5277d0fc159e8af11c18af3dccf18ecdd5a5e20d2c55024d9838f9166aa37fd3e21158608b48b82c45e9d48f9140e90d2a0241babe7f60fe9e3dc10cba885bf95dc8156fb62b3c1c2513a00cf253456950e20f4ceb0fb'\n",
        "\n",
        "KAGGLE_INPUT_PATH='/kaggle/input'\n",
        "KAGGLE_WORKING_PATH='/kaggle/working'\n",
        "KAGGLE_SYMLINK='kaggle'\n",
        "\n",
        "!umount /kaggle/input/ 2> /dev/null\n",
        "shutil.rmtree('/kaggle/input', ignore_errors=True)\n",
        "os.makedirs(KAGGLE_INPUT_PATH, 0o777, exist_ok=True)\n",
        "os.makedirs(KAGGLE_WORKING_PATH, 0o777, exist_ok=True)\n",
        "\n",
        "try:\n",
        "  os.symlink(KAGGLE_INPUT_PATH, os.path.join(\"..\", 'input'), target_is_directory=True)\n",
        "except FileExistsError:\n",
        "  pass\n",
        "try:\n",
        "  os.symlink(KAGGLE_WORKING_PATH, os.path.join(\"..\", 'working'), target_is_directory=True)\n",
        "except FileExistsError:\n",
        "  pass\n",
        "\n",
        "for data_source_mapping in DATA_SOURCE_MAPPING.split(','):\n",
        "    directory, download_url_encoded = data_source_mapping.split(':')\n",
        "    download_url = unquote(download_url_encoded)\n",
        "    filename = urlparse(download_url).path\n",
        "    destination_path = os.path.join(KAGGLE_INPUT_PATH, directory)\n",
        "    try:\n",
        "        with urlopen(download_url) as fileres, NamedTemporaryFile() as tfile:\n",
        "            total_length = fileres.headers['content-length']\n",
        "            print(f'Downloading {directory}, {total_length} bytes compressed')\n",
        "            dl = 0\n",
        "            data = fileres.read(CHUNK_SIZE)\n",
        "            while len(data) > 0:\n",
        "                dl += len(data)\n",
        "                tfile.write(data)\n",
        "                done = int(50 * dl / int(total_length))\n",
        "                sys.stdout.write(f\"\\r[{'=' * done}{' ' * (50-done)}] {dl} bytes downloaded\")\n",
        "                sys.stdout.flush()\n",
        "                data = fileres.read(CHUNK_SIZE)\n",
        "            if filename.endswith('.zip'):\n",
        "              with ZipFile(tfile) as zfile:\n",
        "                zfile.extractall(destination_path)\n",
        "            else:\n",
        "              with tarfile.open(tfile.name) as tarfile:\n",
        "                tarfile.extractall(destination_path)\n",
        "            print(f'\\nDownloaded and uncompressed: {directory}')\n",
        "    except HTTPError as e:\n",
        "        print(f'Failed to load (likely expired) {download_url} to path {destination_path}')\n",
        "        continue\n",
        "    except OSError as e:\n",
        "        print(f'Failed to load {download_url} to path {destination_path}')\n",
        "        continue\n",
        "\n",
        "print('Data source import complete.')\n"
      ],
      "metadata": {
        "id": "63J1j2AibVd9"
      },
      "cell_type": "code",
      "outputs": [],
      "execution_count": null
    },
    {
      "cell_type": "code",
      "source": [
        "# This Python 3 environment comes with many helpful analytics libraries installed\n",
        "# It is defined by the kaggle/python Docker image: https://github.com/kaggle/docker-python\n",
        "# For example, here's several helpful packages to load\n",
        "\n",
        "import numpy as np # linear algebra\n",
        "import pandas as pd # data processing, CSV file I/O (e.g. pd.read_csv)\n",
        "from matplotlib import pyplot as plt\n",
        "import seaborn as sns\n",
        "import re\n",
        "import nltk\n",
        "from nltk.corpus import stopwords\n",
        "from nltk.stem.porter import PorterStemmer\n",
        "from nltk.tokenize import word_tokenize\n",
        "import string\n",
        "from tensorflow.keras.preprocessing.text import Tokenizer\n",
        "from keras.preprocessing.sequence import pad_sequences\n",
        "from nltk.stem import PorterStemmer, WordNetLemmatizer\n",
        "from sklearn.naive_bayes import GaussianNB\n",
        "from tensorflow.keras.models import Sequential\n",
        "from tensorflow.keras.layers import LSTM, Dense\n",
        "from tensorflow.keras.layers import Embedding\n",
        "\n",
        "\n",
        "# Input data files are available in the read-only \"../input/\" directory\n",
        "# For example, running this (by clicking run or pressing Shift+Enter) will list all files under the input directory\n",
        "\n",
        "import os\n",
        "for dirname, _, filenames in os.walk('/kaggle/input'):\n",
        "    for filename in filenames:\n",
        "        print(os.path.join(dirname, filename))\n",
        "\n",
        "# You can write up to 20GB to the current directory (/kaggle/working/) that gets preserved as output when you create a version using \"Save & Run All\"\n",
        "# You can also write temporary files to /kaggle/temp/, but they won't be saved outside of the current session"
      ],
      "metadata": {
        "_uuid": "8f2839f25d086af736a60e9eeb907d3b93b6e0e5",
        "_cell_guid": "b1076dfc-b9ad-4769-8c92-a6c4dae69d19",
        "execution": {
          "iopub.status.busy": "2024-05-11T15:34:25.88389Z",
          "iopub.execute_input": "2024-05-11T15:34:25.88424Z",
          "iopub.status.idle": "2024-05-11T15:34:38.910663Z",
          "shell.execute_reply.started": "2024-05-11T15:34:25.884212Z",
          "shell.execute_reply": "2024-05-11T15:34:38.909614Z"
        },
        "trusted": true,
        "id": "4wT34Oa2bVd-",
        "outputId": "c1aa6c29-0f82-4202-e12a-b6ae2bb7f409"
      },
      "execution_count": null,
      "outputs": [
        {
          "name": "stderr",
          "text": "2024-05-11 15:34:29.096715: E external/local_xla/xla/stream_executor/cuda/cuda_dnn.cc:9261] Unable to register cuDNN factory: Attempting to register factory for plugin cuDNN when one has already been registered\n2024-05-11 15:34:29.096813: E external/local_xla/xla/stream_executor/cuda/cuda_fft.cc:607] Unable to register cuFFT factory: Attempting to register factory for plugin cuFFT when one has already been registered\n2024-05-11 15:34:29.223114: E external/local_xla/xla/stream_executor/cuda/cuda_blas.cc:1515] Unable to register cuBLAS factory: Attempting to register factory for plugin cuBLAS when one has already been registered\n",
          "output_type": "stream"
        },
        {
          "name": "stdout",
          "text": "/kaggle/input/shai-training-2024-a-level-2/sample_submission.csv\n/kaggle/input/shai-training-2024-a-level-2/Valid.csv\n/kaggle/input/shai-training-2024-a-level-2/Train.csv\n/kaggle/input/shai-training-2024-a-level-2/Test.csv\n",
          "output_type": "stream"
        }
      ]
    },
    {
      "cell_type": "code",
      "source": [
        "train=pd.read_csv(\"/kaggle/input/shai-training-2024-a-level-2/Train.csv\")\n",
        "validate=pd.read_csv(\"/kaggle/input/shai-training-2024-a-level-2/Valid.csv\")\n",
        "test=pd.read_csv(\"/kaggle/input/shai-training-2024-a-level-2/Test.csv\")"
      ],
      "metadata": {
        "execution": {
          "iopub.status.busy": "2024-05-11T15:34:40.177029Z",
          "iopub.execute_input": "2024-05-11T15:34:40.177324Z",
          "iopub.status.idle": "2024-05-11T15:34:40.801074Z",
          "shell.execute_reply.started": "2024-05-11T15:34:40.1773Z",
          "shell.execute_reply": "2024-05-11T15:34:40.800058Z"
        },
        "trusted": true,
        "id": "8321y-ltbVd_"
      },
      "execution_count": null,
      "outputs": []
    },
    {
      "cell_type": "code",
      "source": [
        "colors = ['skyblue', 'purple']\n",
        "train['label'].value_counts().plot(kind='bar', color=colors)\n",
        "plt.xlabel('Unique Values')\n",
        "plt.ylabel('Count')\n",
        "plt.title('Counts of Unique Values')\n",
        "plt.show()"
      ],
      "metadata": {
        "execution": {
          "iopub.status.busy": "2024-05-11T15:33:16.610289Z",
          "iopub.execute_input": "2024-05-11T15:33:16.610788Z",
          "iopub.status.idle": "2024-05-11T15:33:17.065601Z",
          "shell.execute_reply.started": "2024-05-11T15:33:16.610749Z",
          "shell.execute_reply": "2024-05-11T15:33:17.064416Z"
        },
        "trusted": true,
        "id": "giRYJtl5bVd_",
        "outputId": "e46d49a2-e846-4525-b3a5-c3dafaa84600"
      },
      "execution_count": null,
      "outputs": [
        {
          "output_type": "display_data",
          "data": {
            "text/plain": "<Figure size 640x480 with 1 Axes>",
            "image/png": "[encoded data removed]"
          },
          "metadata": {}
        }
      ]
    },
    {
      "cell_type": "code",
      "source": [
        "print(f'the shape of our training data is --> {train.shape}')\n",
        "print(f'the shape of our validation data is --> {validate.shape}')\n",
        "print(f'the shape of our testing data is --> {test.shape}')"
      ],
      "metadata": {
        "execution": {
          "iopub.status.busy": "2024-05-11T15:33:20.34696Z",
          "iopub.execute_input": "2024-05-11T15:33:20.347417Z",
          "iopub.status.idle": "2024-05-11T15:33:20.353297Z",
          "shell.execute_reply.started": "2024-05-11T15:33:20.347382Z",
          "shell.execute_reply": "2024-05-11T15:33:20.352186Z"
        },
        "trusted": true,
        "id": "kgqdgbgRbVd_",
        "outputId": "45b389b4-1dd5-4a2b-b5cf-578d37aadd4e"
      },
      "execution_count": null,
      "outputs": [
        {
          "name": "stdout",
          "text": "the shape of our training data is --> (40000, 2)\nthe shape of our validation data is --> (5000, 2)\nthe shape of our testing data is --> (5000, 3)\n",
          "output_type": "stream"
        }
      ]
    },
    {
      "cell_type": "code",
      "source": [
        "print(f' train data columns -->  {train.columns}')\n",
        "print(f' validate data columns -->  {validate.columns}')\n",
        "print(f' test data columns -->  {test.columns}')"
      ],
      "metadata": {
        "execution": {
          "iopub.status.busy": "2024-05-11T14:21:36.004887Z",
          "iopub.execute_input": "2024-05-11T14:21:36.005345Z",
          "iopub.status.idle": "2024-05-11T14:21:36.011873Z",
          "shell.execute_reply.started": "2024-05-11T14:21:36.005307Z",
          "shell.execute_reply": "2024-05-11T14:21:36.010681Z"
        },
        "trusted": true,
        "id": "Y8vAz4Z0bVd_",
        "outputId": "d18ad3aa-e4fc-4ec5-b083-96ab790f4a40"
      },
      "execution_count": null,
      "outputs": [
        {
          "name": "stdout",
          "text": " train data columns -->  Index(['text', 'label'], dtype='object')\n validate data columns -->  Index(['text', 'label'], dtype='object')\n test data columns -->  Index(['id', 'text', 'label'], dtype='object')\n",
          "output_type": "stream"
        }
      ]
    },
    {
      "cell_type": "code",
      "source": [
        "print(f'the number of unique values in the training data is --> {train[\"text\"].nunique()}')"
      ],
      "metadata": {
        "execution": {
          "iopub.status.busy": "2024-05-11T14:25:08.126451Z",
          "iopub.execute_input": "2024-05-11T14:25:08.126897Z",
          "iopub.status.idle": "2024-05-11T14:25:08.292035Z",
          "shell.execute_reply.started": "2024-05-11T14:25:08.126863Z",
          "shell.execute_reply": "2024-05-11T14:25:08.290604Z"
        },
        "trusted": true,
        "id": "fr8AKlqabVd_",
        "outputId": "eda716ac-73c1-4c67-d577-d5c2c72c15a6"
      },
      "execution_count": null,
      "outputs": [
        {
          "name": "stdout",
          "text": "the number of unique values in the training data is --> 39723\n",
          "output_type": "stream"
        }
      ]
    },
    {
      "cell_type": "code",
      "source": [
        "nltk.download('punkt')\n",
        "nltk.download('stopwords')\n",
        "nltk.download('wordnet')"
      ],
      "metadata": {
        "execution": {
          "iopub.status.busy": "2024-05-11T15:34:46.468169Z",
          "iopub.execute_input": "2024-05-11T15:34:46.468976Z",
          "iopub.status.idle": "2024-05-11T15:34:46.649229Z",
          "shell.execute_reply.started": "2024-05-11T15:34:46.468942Z",
          "shell.execute_reply": "2024-05-11T15:34:46.648295Z"
        },
        "trusted": true,
        "id": "Wa3MuMFqbVd_",
        "outputId": "b55724dd-491f-4175-e525-4eede600ddde"
      },
      "execution_count": null,
      "outputs": [
        {
          "name": "stdout",
          "text": "[nltk_data] Downloading package punkt to /usr/share/nltk_data...\n[nltk_data]   Package punkt is already up-to-date!\n[nltk_data] Downloading package stopwords to /usr/share/nltk_data...\n[nltk_data]   Package stopwords is already up-to-date!\n[nltk_data] Downloading package wordnet to /usr/share/nltk_data...\n[nltk_data]   Package wordnet is already up-to-date!\n",
          "output_type": "stream"
        },
        {
          "execution_count": 5,
          "output_type": "execute_result",
          "data": {
            "text/plain": "True"
          },
          "metadata": {}
        }
      ]
    },
    {
      "cell_type": "code",
      "source": [
        "def remove_capitalization(text):\n",
        "    tokens = word_tokenize(text)\n",
        "    lowercase_tokens = [token.lower() for token in tokens]\n",
        "    return ' '.join(lowercase_tokens)\n",
        "\n",
        "train['text'] =train['text'] .apply(remove_capitalization)\n",
        "test['text'] =test['text'] .apply(remove_capitalization)\n",
        "validate['text'] =validate['text'] .apply(remove_capitalization)\n",
        "\n",
        "train.head()"
      ],
      "metadata": {
        "execution": {
          "iopub.status.busy": "2024-05-11T15:34:49.14323Z",
          "iopub.execute_input": "2024-05-11T15:34:49.143608Z",
          "iopub.status.idle": "2024-05-11T15:37:13.143986Z",
          "shell.execute_reply.started": "2024-05-11T15:34:49.143566Z",
          "shell.execute_reply": "2024-05-11T15:37:13.143035Z"
        },
        "trusted": true,
        "id": "n8MOWub2bVd_",
        "outputId": "1b6555be-4e29-4a46-f44f-cb322c4a2adc"
      },
      "execution_count": null,
      "outputs": [
        {
          "execution_count": 6,
          "output_type": "execute_result",
          "data": {
            "text/plain": "                                                text  label\n0  i grew up ( b . 1965 ) watching and loving the...      0\n1  when i put this movie in my dvd player , and s...      0\n2  why do people who do not know what a particula...      0\n3  even though i have great interest in biblical ...      0\n4  im a die hard dads army fan and nothing will e...      1",
            "text/html": "<div>\n<style scoped>\n    .dataframe tbody tr th:only-of-type {\n        vertical-align: middle;\n    }\n\n    .dataframe tbody tr th {\n        vertical-align: top;\n    }\n\n    .dataframe thead th {\n        text-align: right;\n    }\n</style>\n<table border=\"1\" class=\"dataframe\">\n  <thead>\n    <tr style=\"text-align: right;\">\n      <th></th>\n      <th>text</th>\n      <th>label</th>\n    </tr>\n  </thead>\n  <tbody>\n    <tr>\n      <th>0</th>\n      <td>i grew up ( b . 1965 ) watching and loving the...</td>\n      <td>0</td>\n    </tr>\n    <tr>\n      <th>1</th>\n      <td>when i put this movie in my dvd player , and s...</td>\n      <td>0</td>\n    </tr>\n    <tr>\n      <th>2</th>\n      <td>why do people who do not know what a particula...</td>\n      <td>0</td>\n    </tr>\n    <tr>\n      <th>3</th>\n      <td>even though i have great interest in biblical ...</td>\n      <td>0</td>\n    </tr>\n    <tr>\n      <th>4</th>\n      <td>im a die hard dads army fan and nothing will e...</td>\n      <td>1</td>\n    </tr>\n  </tbody>\n</table>\n</div>"
          },
          "metadata": {}
        }
      ]
    },
    {
      "cell_type": "code",
      "source": [
        "def clean_url(text):\n",
        "    text = re.sub(r\"((https:|http|ftp)?(:\\/\\/)?(www\\.)?)?[-a-zA-Z0-9@:%._\\+~#=]{1,256}\\.[a-zA-Z0-9()]{1,6}\\b([-a-zA-Z0-9()@:%_\\+.~#?&\\/\\/=]*)\",' ',text)\n",
        "    return re.sub(r'/', ' / ', text)\n",
        "\n",
        "train['text'] = train['text'].apply(clean_url)\n",
        "validate['text'] =validate['text'].apply(clean_url)\n",
        "test['text'] =test['text'].apply(clean_url)"
      ],
      "metadata": {
        "execution": {
          "iopub.status.busy": "2024-05-11T15:40:31.448456Z",
          "iopub.execute_input": "2024-05-11T15:40:31.449339Z",
          "iopub.status.idle": "2024-05-11T15:41:03.099846Z",
          "shell.execute_reply.started": "2024-05-11T15:40:31.449309Z",
          "shell.execute_reply": "2024-05-11T15:41:03.098827Z"
        },
        "trusted": true,
        "id": "bVIfHnN9bVd_"
      },
      "execution_count": null,
      "outputs": []
    },
    {
      "cell_type": "code",
      "source": [
        "english_stopwords = set(stopwords.words('english'))\n",
        "\n",
        "# Function to remove stopwords while preserving negations\n",
        "def remove_stopwords_without_negation(text):\n",
        "    words = text.split()\n",
        "    filtered_words = []\n",
        "    skip_next = False  # Flag to skip next word after a negation\n",
        "    for i, word in enumerate(words):\n",
        "        if skip_next:\n",
        "            skip_next = False\n",
        "            filtered_words.append(word)\n",
        "            continue\n",
        "        if word.lower() in english_stopwords:\n",
        "            if i > 0 and words[i - 1].lower() in ['not', \"n't\"]:\n",
        "                filtered_words.append(word)\n",
        "            else:\n",
        "                continue\n",
        "        else:\n",
        "            filtered_words.append(word)\n",
        "    return \" \".join(filtered_words)\n",
        "\n",
        "train['text'] = train['text'].apply(remove_stopwords_without_negation)\n",
        "test['text'] =test['text'].apply(remove_stopwords_without_negation)\n",
        "validate['text'] =validate['text'].apply(remove_stopwords_without_negation)"
      ],
      "metadata": {
        "execution": {
          "iopub.status.busy": "2024-05-11T15:41:03.101913Z",
          "iopub.execute_input": "2024-05-11T15:41:03.102237Z",
          "iopub.status.idle": "2024-05-11T15:41:06.966848Z",
          "shell.execute_reply.started": "2024-05-11T15:41:03.102212Z",
          "shell.execute_reply": "2024-05-11T15:41:06.966046Z"
        },
        "trusted": true,
        "id": "lqwiv3K_bVd_"
      },
      "execution_count": null,
      "outputs": []
    },
    {
      "cell_type": "code",
      "source": [
        "def clean_punctuations(text):\n",
        "    return ''.join(char for char in text if char not in string.punctuation)\n",
        "\n",
        "train['text'] = train['text'].apply(clean_punctuations)\n",
        "test['text'] =test['text'].apply(clean_punctuations)\n",
        "validate['text'] =validate['text'].apply(clean_punctuations)"
      ],
      "metadata": {
        "execution": {
          "iopub.status.busy": "2024-05-11T15:41:06.968288Z",
          "iopub.execute_input": "2024-05-11T15:41:06.968585Z",
          "iopub.status.idle": "2024-05-11T15:41:14.3768Z",
          "shell.execute_reply.started": "2024-05-11T15:41:06.968561Z",
          "shell.execute_reply": "2024-05-11T15:41:14.376041Z"
        },
        "trusted": true,
        "id": "UpGTCdJObVeA"
      },
      "execution_count": null,
      "outputs": []
    },
    {
      "cell_type": "code",
      "source": [
        "def clean_numbers(text):\n",
        "    return re.sub(r'\\d+', '', text)\n",
        "\n",
        "# Apply the function to the DataFrame column\n",
        "train['text'] = train['text'].apply(clean_numbers)\n",
        "test['text'] =test['text'].apply(clean_numbers)\n",
        "validate['text'] =validate['text'].apply(clean_numbers)"
      ],
      "metadata": {
        "execution": {
          "iopub.status.busy": "2024-05-11T15:41:18.221978Z",
          "iopub.execute_input": "2024-05-11T15:41:18.222355Z",
          "iopub.status.idle": "2024-05-11T15:41:19.713386Z",
          "shell.execute_reply.started": "2024-05-11T15:41:18.222325Z",
          "shell.execute_reply": "2024-05-11T15:41:19.712603Z"
        },
        "trusted": true,
        "id": "vSTrk8hEbVeA"
      },
      "execution_count": null,
      "outputs": []
    },
    {
      "cell_type": "code",
      "source": [
        "def clean_emoji(data):\n",
        "    data = re.sub(r'<3', '<heart>', data)\n",
        "    data = re.sub(r\"[8:=;]['`\\-]?[)d]+\", '<smile>', data)\n",
        "    data = re.sub(r\"[8:=;]['`\\-]?\\(+\", '<sad>', data)\n",
        "    data = re.sub(r\"[8:=;]['`\\-]?[\\/|l*]\", '<neutral>', data)\n",
        "    data = re.sub(r\"[8:=;]['`\\-]?p+\", '<laugh>', data)\n",
        "    return data\n",
        "train['text'] = train['text'].apply(lambda x: clean_emoji(x))\n",
        "test['text'] =test['text'].apply(lambda x: clean_emoji(x))\n",
        "validate['text'] =validate['text'].apply(lambda x: clean_emoji(x))"
      ],
      "metadata": {
        "execution": {
          "iopub.status.busy": "2024-05-11T15:41:19.714828Z",
          "iopub.execute_input": "2024-05-11T15:41:19.715178Z",
          "iopub.status.idle": "2024-05-11T15:41:22.327054Z",
          "shell.execute_reply.started": "2024-05-11T15:41:19.715147Z",
          "shell.execute_reply": "2024-05-11T15:41:22.326281Z"
        },
        "trusted": true,
        "id": "_F83iryCbVeA"
      },
      "execution_count": null,
      "outputs": []
    },
    {
      "cell_type": "code",
      "source": [
        "x_train=train[\"text\"]\n",
        "y_train=train[\"label\"]\n",
        "\n",
        "x_validate=validate[\"text\"]\n",
        "y_validate=validate[\"label\"]\n",
        "\n",
        "x_test=test[\"text\"]\n",
        "y_test=test[\"label\"]"
      ],
      "metadata": {
        "execution": {
          "iopub.status.busy": "2024-05-11T15:41:22.328079Z",
          "iopub.execute_input": "2024-05-11T15:41:22.328372Z",
          "iopub.status.idle": "2024-05-11T15:41:22.334109Z",
          "shell.execute_reply.started": "2024-05-11T15:41:22.328348Z",
          "shell.execute_reply": "2024-05-11T15:41:22.33324Z"
        },
        "trusted": true,
        "id": "wQXRFiPLbVeA"
      },
      "execution_count": null,
      "outputs": []
    },
    {
      "cell_type": "code",
      "source": [
        "# Tokenize the text\n",
        "tokenizer = Tokenizer()\n",
        "tokenizer.fit_on_texts(x_train)\n",
        "train_sequences = tokenizer.texts_to_sequences(x_train)\n",
        "\n",
        "tokenizer.fit_on_texts(x_validate)\n",
        "validate_sequences = tokenizer.texts_to_sequences(x_validate)\n",
        "\n",
        "tokenizer.fit_on_texts(x_test)\n",
        "test_sequences = tokenizer.texts_to_sequences(x_test)\n",
        "\n",
        "\n",
        "# Get vocabulary size\n",
        "vocab_size = len(tokenizer.word_index) + 1  # Add 1 for the <UNK> token\n",
        "\n",
        "# Define embedding dimension\n",
        "embedding_dim = 100\n",
        "# Pad sequences to ensure uniform length\n",
        "max_sequence_length = 2470\n",
        "sequences_train_padded = pad_sequences(train_sequences, maxlen=max_sequence_length)\n",
        "sequences_validate_padded = pad_sequences(validate_sequences, maxlen=max_sequence_length)\n",
        "sequences_test_padded = pad_sequences(test_sequences, maxlen=max_sequence_length)\n",
        "\n",
        "# Define your LSTM model\n",
        "model = Sequential()\n",
        "model.add(Embedding(input_dim=vocab_size, output_dim=embedding_dim, input_length=max_sequence_length))\n",
        "model.add(LSTM(units=50))\n",
        "model.add(Dense(units=1, activation='sigmoid'))\n",
        "\n",
        "# Compile the model\n",
        "model.compile(optimizer='nadam', loss='binary_crossentropy', metrics=['accuracy'])\n",
        "\n",
        "from keras.callbacks import EarlyStopping\n",
        "\n",
        "# Define early stopping callback\n",
        "early_stopping = EarlyStopping(monitor='val_loss', patience=3, restore_best_weights=True)\n",
        "\n",
        "# Train the model with early stopping\n",
        "history = model.fit(sequences_train_padded, y_train,\n",
        "                    epochs=20,\n",
        "                    batch_size=41,\n",
        "                    validation_data=(sequences_validate_padded, y_validate),\n",
        "                    callbacks=[early_stopping])\n"
      ],
      "metadata": {
        "execution": {
          "iopub.status.busy": "2024-05-11T16:02:43.379303Z",
          "iopub.execute_input": "2024-05-11T16:02:43.38015Z",
          "iopub.status.idle": "2024-05-11T16:11:14.671498Z",
          "shell.execute_reply.started": "2024-05-11T16:02:43.380116Z",
          "shell.execute_reply": "2024-05-11T16:11:14.67066Z"
        },
        "trusted": true,
        "id": "xzWmRyELbVeA",
        "outputId": "22296027-2d12-4498-cae5-81088dba6e11"
      },
      "execution_count": null,
      "outputs": [
        {
          "name": "stderr",
          "text": "/opt/conda/lib/python3.10/site-packages/keras/src/layers/core/embedding.py:86: UserWarning: Argument `input_length` is deprecated. Just remove it.\n  warnings.warn(\n",
          "output_type": "stream"
        },
        {
          "name": "stdout",
          "text": "Epoch 1/20\n\u001b[1m976/976\u001b[0m \u001b[32m━━━━━━━━━━━━━━━━━━━━\u001b[0m\u001b[37m\u001b[0m \u001b[1m127s\u001b[0m 127ms/step - accuracy: 0.8032 - loss: 0.4145 - val_accuracy: 0.6220 - val_loss: 0.7898\nEpoch 2/20\n\u001b[1m976/976\u001b[0m \u001b[32m━━━━━━━━━━━━━━━━━━━━\u001b[0m\u001b[37m\u001b[0m \u001b[1m124s\u001b[0m 127ms/step - accuracy: 0.9526 - loss: 0.1352 - val_accuracy: 0.6106 - val_loss: 0.9894\nEpoch 3/20\n\u001b[1m976/976\u001b[0m \u001b[32m━━━━━━━━━━━━━━━━━━━━\u001b[0m\u001b[37m\u001b[0m \u001b[1m124s\u001b[0m 127ms/step - accuracy: 0.9786 - loss: 0.0663 - val_accuracy: 0.6076 - val_loss: 1.3177\nEpoch 4/20\n\u001b[1m976/976\u001b[0m \u001b[32m━━━━━━━━━━━━━━━━━━━━\u001b[0m\u001b[37m\u001b[0m \u001b[1m124s\u001b[0m 127ms/step - accuracy: 0.9854 - loss: 0.0469 - val_accuracy: 0.5950 - val_loss: 1.6025\n",
          "output_type": "stream"
        }
      ]
    },
    {
      "cell_type": "code",
      "source": [
        "model.summary()"
      ],
      "metadata": {
        "execution": {
          "iopub.status.busy": "2024-05-11T15:57:07.109753Z",
          "iopub.execute_input": "2024-05-11T15:57:07.110126Z",
          "iopub.status.idle": "2024-05-11T15:57:07.131062Z",
          "shell.execute_reply.started": "2024-05-11T15:57:07.110096Z",
          "shell.execute_reply": "2024-05-11T15:57:07.130163Z"
        },
        "trusted": true,
        "id": "vQXSqwxJbVeB",
        "outputId": "86dfa0e1-0d3a-4bd9-87a6-1da08070830b"
      },
      "execution_count": null,
      "outputs": [
        {
          "output_type": "display_data",
          "data": {
            "text/plain": "\u001b[1mModel: \"sequential\"\u001b[0m\n",
            "text/html": "<pre style=\"white-space:pre;overflow-x:auto;line-height:normal;font-family:Menlo,'DejaVu Sans Mono',consolas,'Courier New',monospace\"><span style=\"font-weight: bold\">Model: \"sequential\"</span>\n</pre>\n"
          },
          "metadata": {}
        },
        {
          "output_type": "display_data",
          "data": {
            "text/plain": "┏━━━━━━━━━━━━━━━━━━━━━━━━━━━━━━━━━┳━━━━━━━━━━━━━━━━━━━━━━━━┳━━━━━━━━━━━━━━━┓\n┃\u001b[1m \u001b[0m\u001b[1mLayer (type)                   \u001b[0m\u001b[1m \u001b[0m┃\u001b[1m \u001b[0m\u001b[1mOutput Shape          \u001b[0m\u001b[1m \u001b[0m┃\u001b[1m \u001b[0m\u001b[1m      Param #\u001b[0m\u001b[1m \u001b[0m┃\n┡━━━━━━━━━━━━━━━━━━━━━━━━━━━━━━━━━╇━━━━━━━━━━━━━━━━━━━━━━━━╇━━━━━━━━━━━━━━━┩\n│ embedding (\u001b[38;5;33mEmbedding\u001b[0m)           │ (\u001b[38;5;45mNone\u001b[0m, \u001b[38;5;34m2470\u001b[0m, \u001b[38;5;34m100\u001b[0m)      │    \u001b[38;5;34m12,472,900\u001b[0m │\n├─────────────────────────────────┼────────────────────────┼───────────────┤\n│ lstm (\u001b[38;5;33mLSTM\u001b[0m)                     │ (\u001b[38;5;45mNone\u001b[0m, \u001b[38;5;34m50\u001b[0m)             │        \u001b[38;5;34m30,200\u001b[0m │\n├─────────────────────────────────┼────────────────────────┼───────────────┤\n│ dense (\u001b[38;5;33mDense\u001b[0m)                   │ (\u001b[38;5;45mNone\u001b[0m, \u001b[38;5;34m1\u001b[0m)              │            \u001b[38;5;34m51\u001b[0m │\n└─────────────────────────────────┴────────────────────────┴───────────────┘\n",
            "text/html": "<pre style=\"white-space:pre;overflow-x:auto;line-height:normal;font-family:Menlo,'DejaVu Sans Mono',consolas,'Courier New',monospace\">┏━━━━━━━━━━━━━━━━━━━━━━━━━━━━━━━━━┳━━━━━━━━━━━━━━━━━━━━━━━━┳━━━━━━━━━━━━━━━┓\n┃<span style=\"font-weight: bold\"> Layer (type)                    </span>┃<span style=\"font-weight: bold\"> Output Shape           </span>┃<span style=\"font-weight: bold\">       Param # </span>┃\n┡━━━━━━━━━━━━━━━━━━━━━━━━━━━━━━━━━╇━━━━━━━━━━━━━━━━━━━━━━━━╇━━━━━━━━━━━━━━━┩\n│ embedding (<span style=\"color: #0087ff; text-decoration-color: #0087ff\">Embedding</span>)           │ (<span style=\"color: #00d7ff; text-decoration-color: #00d7ff\">None</span>, <span style=\"color: #00af00; text-decoration-color: #00af00\">2470</span>, <span style=\"color: #00af00; text-decoration-color: #00af00\">100</span>)      │    <span style=\"color: #00af00; text-decoration-color: #00af00\">12,472,900</span> │\n├─────────────────────────────────┼────────────────────────┼───────────────┤\n│ lstm (<span style=\"color: #0087ff; text-decoration-color: #0087ff\">LSTM</span>)                     │ (<span style=\"color: #00d7ff; text-decoration-color: #00d7ff\">None</span>, <span style=\"color: #00af00; text-decoration-color: #00af00\">50</span>)             │        <span style=\"color: #00af00; text-decoration-color: #00af00\">30,200</span> │\n├─────────────────────────────────┼────────────────────────┼───────────────┤\n│ dense (<span style=\"color: #0087ff; text-decoration-color: #0087ff\">Dense</span>)                   │ (<span style=\"color: #00d7ff; text-decoration-color: #00d7ff\">None</span>, <span style=\"color: #00af00; text-decoration-color: #00af00\">1</span>)              │            <span style=\"color: #00af00; text-decoration-color: #00af00\">51</span> │\n└─────────────────────────────────┴────────────────────────┴───────────────┘\n</pre>\n"
          },
          "metadata": {}
        },
        {
          "output_type": "display_data",
          "data": {
            "text/plain": "\u001b[1m Total params: \u001b[0m\u001b[38;5;34m37,509,456\u001b[0m (143.09 MB)\n",
            "text/html": "<pre style=\"white-space:pre;overflow-x:auto;line-height:normal;font-family:Menlo,'DejaVu Sans Mono',consolas,'Courier New',monospace\"><span style=\"font-weight: bold\"> Total params: </span><span style=\"color: #00af00; text-decoration-color: #00af00\">37,509,456</span> (143.09 MB)\n</pre>\n"
          },
          "metadata": {}
        },
        {
          "output_type": "display_data",
          "data": {
            "text/plain": "\u001b[1m Trainable params: \u001b[0m\u001b[38;5;34m12,503,151\u001b[0m (47.70 MB)\n",
            "text/html": "<pre style=\"white-space:pre;overflow-x:auto;line-height:normal;font-family:Menlo,'DejaVu Sans Mono',consolas,'Courier New',monospace\"><span style=\"font-weight: bold\"> Trainable params: </span><span style=\"color: #00af00; text-decoration-color: #00af00\">12,503,151</span> (47.70 MB)\n</pre>\n"
          },
          "metadata": {}
        },
        {
          "output_type": "display_data",
          "data": {
            "text/plain": "\u001b[1m Non-trainable params: \u001b[0m\u001b[38;5;34m0\u001b[0m (0.00 B)\n",
            "text/html": "<pre style=\"white-space:pre;overflow-x:auto;line-height:normal;font-family:Menlo,'DejaVu Sans Mono',consolas,'Courier New',monospace\"><span style=\"font-weight: bold\"> Non-trainable params: </span><span style=\"color: #00af00; text-decoration-color: #00af00\">0</span> (0.00 B)\n</pre>\n"
          },
          "metadata": {}
        },
        {
          "output_type": "display_data",
          "data": {
            "text/plain": "\u001b[1m Optimizer params: \u001b[0m\u001b[38;5;34m25,006,305\u001b[0m (95.39 MB)\n",
            "text/html": "<pre style=\"white-space:pre;overflow-x:auto;line-height:normal;font-family:Menlo,'DejaVu Sans Mono',consolas,'Courier New',monospace\"><span style=\"font-weight: bold\"> Optimizer params: </span><span style=\"color: #00af00; text-decoration-color: #00af00\">25,006,305</span> (95.39 MB)\n</pre>\n"
          },
          "metadata": {}
        }
      ]
    },
    {
      "cell_type": "code",
      "source": [
        "predictions=model.predict(sequences_test_padded)"
      ],
      "metadata": {
        "execution": {
          "iopub.status.busy": "2024-05-11T16:01:30.791465Z",
          "iopub.execute_input": "2024-05-11T16:01:30.792083Z",
          "iopub.status.idle": "2024-05-11T16:01:38.277104Z",
          "shell.execute_reply.started": "2024-05-11T16:01:30.792044Z",
          "shell.execute_reply": "2024-05-11T16:01:38.276103Z"
        },
        "trusted": true,
        "id": "sKZhHUpPbVeB",
        "outputId": "ab19429c-ac57-4ca9-c6bf-eb75b3003f75"
      },
      "execution_count": null,
      "outputs": [
        {
          "name": "stdout",
          "text": "\u001b[1m157/157\u001b[0m \u001b[32m━━━━━━━━━━━━━━━━━━━━\u001b[0m\u001b[37m\u001b[0m \u001b[1m7s\u001b[0m 46ms/step\n",
          "output_type": "stream"
        }
      ]
    },
    {
      "cell_type": "code",
      "source": [
        "from sklearn.metrics import classification_report\n",
        "\n",
        "print(classification_report(y_validate, binary_predictions))"
      ],
      "metadata": {
        "execution": {
          "iopub.status.busy": "2024-05-11T16:11:19.915706Z",
          "iopub.execute_input": "2024-05-11T16:11:19.916645Z",
          "iopub.status.idle": "2024-05-11T16:11:19.932807Z",
          "shell.execute_reply.started": "2024-05-11T16:11:19.91661Z",
          "shell.execute_reply": "2024-05-11T16:11:19.931829Z"
        },
        "trusted": true,
        "id": "KaarLIx5bVeB",
        "outputId": "4cc5eb5a-d7d0-4530-c4a8-2afc6d93c232"
      },
      "execution_count": null,
      "outputs": [
        {
          "name": "stdout",
          "text": "              precision    recall  f1-score   support\n\n           0       0.49      0.53      0.51      2486\n           1       0.50      0.47      0.48      2514\n\n    accuracy                           0.50      5000\n   macro avg       0.50      0.50      0.50      5000\nweighted avg       0.50      0.50      0.50      5000\n\n",
          "output_type": "stream"
        }
      ]
    },
    {
      "cell_type": "code",
      "source": [
        "submission=test[[\"id\"]]\n",
        "submission"
      ],
      "metadata": {
        "execution": {
          "iopub.status.busy": "2024-05-09T17:48:42.46461Z",
          "iopub.execute_input": "2024-05-09T17:48:42.465108Z",
          "iopub.status.idle": "2024-05-09T17:48:42.475992Z",
          "shell.execute_reply.started": "2024-05-09T17:48:42.46507Z",
          "shell.execute_reply": "2024-05-09T17:48:42.475076Z"
        },
        "trusted": true,
        "id": "A1XYNkhLbVeB",
        "outputId": "fef58000-908e-43b2-8799-b46653a27bf1"
      },
      "execution_count": null,
      "outputs": [
        {
          "execution_count": 36,
          "output_type": "execute_result",
          "data": {
            "text/plain": "        id\n0        0\n1        1\n2        2\n3        3\n4        4\n...    ...\n4995  4995\n4996  4996\n4997  4997\n4998  4998\n4999  4999\n\n[5000 rows x 1 columns]",
            "text/html": "<div>\n<style scoped>\n    .dataframe tbody tr th:only-of-type {\n        vertical-align: middle;\n    }\n\n    .dataframe tbody tr th {\n        vertical-align: top;\n    }\n\n    .dataframe thead th {\n        text-align: right;\n    }\n</style>\n<table border=\"1\" class=\"dataframe\">\n  <thead>\n    <tr style=\"text-align: right;\">\n      <th></th>\n      <th>id</th>\n    </tr>\n  </thead>\n  <tbody>\n    <tr>\n      <th>0</th>\n      <td>0</td>\n    </tr>\n    <tr>\n      <th>1</th>\n      <td>1</td>\n    </tr>\n    <tr>\n      <th>2</th>\n      <td>2</td>\n    </tr>\n    <tr>\n      <th>3</th>\n      <td>3</td>\n    </tr>\n    <tr>\n      <th>4</th>\n      <td>4</td>\n    </tr>\n    <tr>\n      <th>...</th>\n      <td>...</td>\n    </tr>\n    <tr>\n      <th>4995</th>\n      <td>4995</td>\n    </tr>\n    <tr>\n      <th>4996</th>\n      <td>4996</td>\n    </tr>\n    <tr>\n      <th>4997</th>\n      <td>4997</td>\n    </tr>\n    <tr>\n      <th>4998</th>\n      <td>4998</td>\n    </tr>\n    <tr>\n      <th>4999</th>\n      <td>4999</td>\n    </tr>\n  </tbody>\n</table>\n<p>5000 rows × 1 columns</p>\n</div>"
          },
          "metadata": {}
        }
      ]
    },
    {
      "cell_type": "code",
      "source": [
        "threshold = 0.5\n",
        "binary_predictions = (predictions > threshold).astype(int)\n",
        "\n",
        "# Now 'binary_predictions' contains the binary classification results\n"
      ],
      "metadata": {
        "execution": {
          "iopub.status.busy": "2024-05-11T16:02:21.703552Z",
          "iopub.execute_input": "2024-05-11T16:02:21.704192Z",
          "iopub.status.idle": "2024-05-11T16:02:21.708919Z",
          "shell.execute_reply.started": "2024-05-11T16:02:21.704159Z",
          "shell.execute_reply": "2024-05-11T16:02:21.708025Z"
        },
        "trusted": true,
        "id": "8jKf5KxebVeB"
      },
      "execution_count": null,
      "outputs": []
    },
    {
      "cell_type": "code",
      "source": [
        "submission[\"label\"]= binary_predictions"
      ],
      "metadata": {
        "execution": {
          "iopub.status.busy": "2024-05-09T17:48:42.488604Z",
          "iopub.execute_input": "2024-05-09T17:48:42.488926Z",
          "iopub.status.idle": "2024-05-09T17:48:42.496327Z",
          "shell.execute_reply.started": "2024-05-09T17:48:42.488902Z",
          "shell.execute_reply": "2024-05-09T17:48:42.495334Z"
        },
        "trusted": true,
        "id": "phsxEIOmbVeB",
        "outputId": "42eb9547-593b-4f00-9a3d-f1a942df2e28"
      },
      "execution_count": null,
      "outputs": [
        {
          "name": "stderr",
          "text": "/tmp/ipykernel_34/2244223454.py:1: SettingWithCopyWarning: \nA value is trying to be set on a copy of a slice from a DataFrame.\nTry using .loc[row_indexer,col_indexer] = value instead\n\nSee the caveats in the documentation: https://pandas.pydata.org/pandas-docs/stable/user_guide/indexing.html#returning-a-view-versus-a-copy\n  submission[\"label\"]= binary_predictions\n",
          "output_type": "stream"
        }
      ]
    },
    {
      "cell_type": "code",
      "source": [
        "submission.to_csv(\"submission_6.csv\")"
      ],
      "metadata": {
        "execution": {
          "iopub.status.busy": "2024-05-09T17:48:48.195791Z",
          "iopub.execute_input": "2024-05-09T17:48:48.196208Z",
          "iopub.status.idle": "2024-05-09T17:48:48.210626Z",
          "shell.execute_reply.started": "2024-05-09T17:48:48.196177Z",
          "shell.execute_reply": "2024-05-09T17:48:48.209634Z"
        },
        "trusted": true,
        "id": "-aUJpG8IbVeB"
      },
      "execution_count": null,
      "outputs": []
    }
  ]
}